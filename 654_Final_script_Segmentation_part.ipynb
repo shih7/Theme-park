{
  "nbformat": 4,
  "nbformat_minor": 0,
  "metadata": {
    "colab": {
      "provenance": []
    },
    "kernelspec": {
      "name": "python3",
      "display_name": "Python 3"
    },
    "language_info": {
      "name": "python"
    }
  },
  "cells": [
    {
      "cell_type": "markdown",
      "source": [
        "# Hui-Segmentation and Targeting"
      ],
      "metadata": {
        "id": "bxnmE19ejWf-"
      }
    },
    {
      "cell_type": "code",
      "execution_count": null,
      "metadata": {
        "id": "8Y7hDqTQ6mDV",
        "colab": {
          "base_uri": "https://localhost:8080/",
          "height": 250
        },
        "outputId": "58092290-774d-455f-8a77-bb8e48d252bd"
      },
      "outputs": [
        {
          "output_type": "execute_result",
          "data": {
            "text/plain": [
              "   est_net_worth  est_inc  domestic  number_visits  number_children  \\\n",
              "0           7525     7825         1              0                2   \n",
              "1         639815   449775         1              1                2   \n",
              "2         288847   204750         1              6                3   \n",
              "3         191791   136730         1              1                1   \n",
              "4          96527    72165         0              3                0   \n",
              "\n",
              "   oldest_child_age  online_merch_avg  est_annual_travel  est_annual_leisure  \\\n",
              "0               9.0             826.0             2309.0              4094.0   \n",
              "1              11.0            1779.0             9060.0              8670.0   \n",
              "2              13.0            2121.0             6436.0              5021.0   \n",
              "3               8.0            1880.0            13107.0             66074.0   \n",
              "4               NaN             775.0             2042.0              2846.0   \n",
              "\n",
              "   est_hhold_FICO  \n",
              "0             701  \n",
              "1             764  \n",
              "2             720  \n",
              "3             783  \n",
              "4             757  "
            ],
            "text/html": [
              "\n",
              "  <div id=\"df-94b3330c-d607-487c-ad71-cc8fd8746a13\">\n",
              "    <div class=\"colab-df-container\">\n",
              "      <div>\n",
              "<style scoped>\n",
              "    .dataframe tbody tr th:only-of-type {\n",
              "        vertical-align: middle;\n",
              "    }\n",
              "\n",
              "    .dataframe tbody tr th {\n",
              "        vertical-align: top;\n",
              "    }\n",
              "\n",
              "    .dataframe thead th {\n",
              "        text-align: right;\n",
              "    }\n",
              "</style>\n",
              "<table border=\"1\" class=\"dataframe\">\n",
              "  <thead>\n",
              "    <tr style=\"text-align: right;\">\n",
              "      <th></th>\n",
              "      <th>est_net_worth</th>\n",
              "      <th>est_inc</th>\n",
              "      <th>domestic</th>\n",
              "      <th>number_visits</th>\n",
              "      <th>number_children</th>\n",
              "      <th>oldest_child_age</th>\n",
              "      <th>online_merch_avg</th>\n",
              "      <th>est_annual_travel</th>\n",
              "      <th>est_annual_leisure</th>\n",
              "      <th>est_hhold_FICO</th>\n",
              "    </tr>\n",
              "  </thead>\n",
              "  <tbody>\n",
              "    <tr>\n",
              "      <th>0</th>\n",
              "      <td>7525</td>\n",
              "      <td>7825</td>\n",
              "      <td>1</td>\n",
              "      <td>0</td>\n",
              "      <td>2</td>\n",
              "      <td>9.0</td>\n",
              "      <td>826.0</td>\n",
              "      <td>2309.0</td>\n",
              "      <td>4094.0</td>\n",
              "      <td>701</td>\n",
              "    </tr>\n",
              "    <tr>\n",
              "      <th>1</th>\n",
              "      <td>639815</td>\n",
              "      <td>449775</td>\n",
              "      <td>1</td>\n",
              "      <td>1</td>\n",
              "      <td>2</td>\n",
              "      <td>11.0</td>\n",
              "      <td>1779.0</td>\n",
              "      <td>9060.0</td>\n",
              "      <td>8670.0</td>\n",
              "      <td>764</td>\n",
              "    </tr>\n",
              "    <tr>\n",
              "      <th>2</th>\n",
              "      <td>288847</td>\n",
              "      <td>204750</td>\n",
              "      <td>1</td>\n",
              "      <td>6</td>\n",
              "      <td>3</td>\n",
              "      <td>13.0</td>\n",
              "      <td>2121.0</td>\n",
              "      <td>6436.0</td>\n",
              "      <td>5021.0</td>\n",
              "      <td>720</td>\n",
              "    </tr>\n",
              "    <tr>\n",
              "      <th>3</th>\n",
              "      <td>191791</td>\n",
              "      <td>136730</td>\n",
              "      <td>1</td>\n",
              "      <td>1</td>\n",
              "      <td>1</td>\n",
              "      <td>8.0</td>\n",
              "      <td>1880.0</td>\n",
              "      <td>13107.0</td>\n",
              "      <td>66074.0</td>\n",
              "      <td>783</td>\n",
              "    </tr>\n",
              "    <tr>\n",
              "      <th>4</th>\n",
              "      <td>96527</td>\n",
              "      <td>72165</td>\n",
              "      <td>0</td>\n",
              "      <td>3</td>\n",
              "      <td>0</td>\n",
              "      <td>NaN</td>\n",
              "      <td>775.0</td>\n",
              "      <td>2042.0</td>\n",
              "      <td>2846.0</td>\n",
              "      <td>757</td>\n",
              "    </tr>\n",
              "  </tbody>\n",
              "</table>\n",
              "</div>\n",
              "      <button class=\"colab-df-convert\" onclick=\"convertToInteractive('df-94b3330c-d607-487c-ad71-cc8fd8746a13')\"\n",
              "              title=\"Convert this dataframe to an interactive table.\"\n",
              "              style=\"display:none;\">\n",
              "        \n",
              "  <svg xmlns=\"http://www.w3.org/2000/svg\" height=\"24px\"viewBox=\"0 0 24 24\"\n",
              "       width=\"24px\">\n",
              "    <path d=\"M0 0h24v24H0V0z\" fill=\"none\"/>\n",
              "    <path d=\"M18.56 5.44l.94 2.06.94-2.06 2.06-.94-2.06-.94-.94-2.06-.94 2.06-2.06.94zm-11 1L8.5 8.5l.94-2.06 2.06-.94-2.06-.94L8.5 2.5l-.94 2.06-2.06.94zm10 10l.94 2.06.94-2.06 2.06-.94-2.06-.94-.94-2.06-.94 2.06-2.06.94z\"/><path d=\"M17.41 7.96l-1.37-1.37c-.4-.4-.92-.59-1.43-.59-.52 0-1.04.2-1.43.59L10.3 9.45l-7.72 7.72c-.78.78-.78 2.05 0 2.83L4 21.41c.39.39.9.59 1.41.59.51 0 1.02-.2 1.41-.59l7.78-7.78 2.81-2.81c.8-.78.8-2.07 0-2.86zM5.41 20L4 18.59l7.72-7.72 1.47 1.35L5.41 20z\"/>\n",
              "  </svg>\n",
              "      </button>\n",
              "      \n",
              "  <style>\n",
              "    .colab-df-container {\n",
              "      display:flex;\n",
              "      flex-wrap:wrap;\n",
              "      gap: 12px;\n",
              "    }\n",
              "\n",
              "    .colab-df-convert {\n",
              "      background-color: #E8F0FE;\n",
              "      border: none;\n",
              "      border-radius: 50%;\n",
              "      cursor: pointer;\n",
              "      display: none;\n",
              "      fill: #1967D2;\n",
              "      height: 32px;\n",
              "      padding: 0 0 0 0;\n",
              "      width: 32px;\n",
              "    }\n",
              "\n",
              "    .colab-df-convert:hover {\n",
              "      background-color: #E2EBFA;\n",
              "      box-shadow: 0px 1px 2px rgba(60, 64, 67, 0.3), 0px 1px 3px 1px rgba(60, 64, 67, 0.15);\n",
              "      fill: #174EA6;\n",
              "    }\n",
              "\n",
              "    [theme=dark] .colab-df-convert {\n",
              "      background-color: #3B4455;\n",
              "      fill: #D2E3FC;\n",
              "    }\n",
              "\n",
              "    [theme=dark] .colab-df-convert:hover {\n",
              "      background-color: #434B5C;\n",
              "      box-shadow: 0px 1px 3px 1px rgba(0, 0, 0, 0.15);\n",
              "      filter: drop-shadow(0px 1px 2px rgba(0, 0, 0, 0.3));\n",
              "      fill: #FFFFFF;\n",
              "    }\n",
              "  </style>\n",
              "\n",
              "      <script>\n",
              "        const buttonEl =\n",
              "          document.querySelector('#df-94b3330c-d607-487c-ad71-cc8fd8746a13 button.colab-df-convert');\n",
              "        buttonEl.style.display =\n",
              "          google.colab.kernel.accessAllowed ? 'block' : 'none';\n",
              "\n",
              "        async function convertToInteractive(key) {\n",
              "          const element = document.querySelector('#df-94b3330c-d607-487c-ad71-cc8fd8746a13');\n",
              "          const dataTable =\n",
              "            await google.colab.kernel.invokeFunction('convertToInteractive',\n",
              "                                                     [key], {});\n",
              "          if (!dataTable) return;\n",
              "\n",
              "          const docLinkHtml = 'Like what you see? Visit the ' +\n",
              "            '<a target=\"_blank\" href=https://colab.research.google.com/notebooks/data_table.ipynb>data table notebook</a>'\n",
              "            + ' to learn more about interactive tables.';\n",
              "          element.innerHTML = '';\n",
              "          dataTable['output_type'] = 'display_data';\n",
              "          await google.colab.output.renderOutput(dataTable, element);\n",
              "          const docLink = document.createElement('div');\n",
              "          docLink.innerHTML = docLinkHtml;\n",
              "          element.appendChild(docLink);\n",
              "        }\n",
              "      </script>\n",
              "    </div>\n",
              "  </div>\n",
              "  "
            ]
          },
          "metadata": {},
          "execution_count": 95
        }
      ],
      "source": [
        "import numpy as np\n",
        "\n",
        "import pandas as pd\n",
        "\n",
        "import matplotlib as mpl\n",
        "\n",
        "import matplotlib.pyplot as plt\n",
        "\n",
        "family = pd.read_csv(\"family_segments.csv\")\n",
        "\n",
        "family = family.drop(columns=['hhold_ID'])\n",
        "family = family.drop(columns=['dis_plus_sub'])\n",
        "\n",
        "\n",
        "family.head()"
      ]
    },
    {
      "cell_type": "markdown",
      "source": [
        "The above code brought the data into the environment and I dropped ID column."
      ],
      "metadata": {
        "id": "yntyc__AE02p"
      }
    },
    {
      "cell_type": "code",
      "source": [
        "print(\" \\nCount total NaN in a DataFrame : \\n\\n\",\n",
        "       family.isnull().sum().sum())\n",
        "family.isnull().sum()\n"
      ],
      "metadata": {
        "colab": {
          "base_uri": "https://localhost:8080/"
        },
        "id": "LIfqyeoXEvYk",
        "outputId": "22c65efe-fe88-42cd-874c-5c9ba2ad1117"
      },
      "execution_count": null,
      "outputs": [
        {
          "output_type": "stream",
          "name": "stdout",
          "text": [
            " \n",
            "Count total NaN in a DataFrame : \n",
            "\n",
            " 526\n"
          ]
        },
        {
          "output_type": "execute_result",
          "data": {
            "text/plain": [
              "est_net_worth           0\n",
              "est_inc                 0\n",
              "domestic                0\n",
              "number_visits           0\n",
              "number_children         0\n",
              "oldest_child_age      526\n",
              "online_merch_avg        0\n",
              "est_annual_travel       0\n",
              "est_annual_leisure      0\n",
              "est_hhold_FICO          0\n",
              "dtype: int64"
            ]
          },
          "metadata": {},
          "execution_count": 96
        }
      ]
    },
    {
      "cell_type": "markdown",
      "source": [
        "The above code detect if the dataset contains NA value. From the output data frame we can observe that the NA value exists in the column oldest_child_age. "
      ],
      "metadata": {
        "id": "LdKpwbAJEuX2"
      }
    },
    {
      "cell_type": "code",
      "source": [
        "family['oldest_child_age'].fillna(0, inplace=True)\n",
        "family.isnull().sum()"
      ],
      "metadata": {
        "colab": {
          "base_uri": "https://localhost:8080/"
        },
        "id": "km035eIHFo6J",
        "outputId": "d517b141-f58b-4aa9-8a34-8c54ec4e32f8"
      },
      "execution_count": null,
      "outputs": [
        {
          "output_type": "execute_result",
          "data": {
            "text/plain": [
              "est_net_worth         0\n",
              "est_inc               0\n",
              "domestic              0\n",
              "number_visits         0\n",
              "number_children       0\n",
              "oldest_child_age      0\n",
              "online_merch_avg      0\n",
              "est_annual_travel     0\n",
              "est_annual_leisure    0\n",
              "est_hhold_FICO        0\n",
              "dtype: int64"
            ]
          },
          "metadata": {},
          "execution_count": 97
        }
      ]
    },
    {
      "cell_type": "code",
      "source": [
        "family.head()"
      ],
      "metadata": {
        "colab": {
          "base_uri": "https://localhost:8080/",
          "height": 270
        },
        "id": "Qx2oeiGEJNGm",
        "outputId": "7b7893ad-971f-40e5-bd4d-e15dcfec52fa"
      },
      "execution_count": null,
      "outputs": [
        {
          "output_type": "execute_result",
          "data": {
            "text/plain": [
              "   est_net_worth  est_inc  domestic  number_visits  number_children  \\\n",
              "0           7525     7825         1              0                2   \n",
              "1         639815   449775         1              1                2   \n",
              "2         288847   204750         1              6                3   \n",
              "3         191791   136730         1              1                1   \n",
              "4          96527    72165         0              3                0   \n",
              "\n",
              "   oldest_child_age  dis_plus_sub  online_merch_avg  est_annual_travel  \\\n",
              "0               9.0             0             826.0             2309.0   \n",
              "1              11.0             0            1779.0             9060.0   \n",
              "2              13.0             1            2121.0             6436.0   \n",
              "3               8.0             1            1880.0            13107.0   \n",
              "4               0.0             0             775.0             2042.0   \n",
              "\n",
              "   est_annual_leisure  est_hhold_FICO  \n",
              "0              4094.0             701  \n",
              "1              8670.0             764  \n",
              "2              5021.0             720  \n",
              "3             66074.0             783  \n",
              "4              2846.0             757  "
            ],
            "text/html": [
              "\n",
              "  <div id=\"df-02a5ee1b-f399-423b-959a-e8705a527727\">\n",
              "    <div class=\"colab-df-container\">\n",
              "      <div>\n",
              "<style scoped>\n",
              "    .dataframe tbody tr th:only-of-type {\n",
              "        vertical-align: middle;\n",
              "    }\n",
              "\n",
              "    .dataframe tbody tr th {\n",
              "        vertical-align: top;\n",
              "    }\n",
              "\n",
              "    .dataframe thead th {\n",
              "        text-align: right;\n",
              "    }\n",
              "</style>\n",
              "<table border=\"1\" class=\"dataframe\">\n",
              "  <thead>\n",
              "    <tr style=\"text-align: right;\">\n",
              "      <th></th>\n",
              "      <th>est_net_worth</th>\n",
              "      <th>est_inc</th>\n",
              "      <th>domestic</th>\n",
              "      <th>number_visits</th>\n",
              "      <th>number_children</th>\n",
              "      <th>oldest_child_age</th>\n",
              "      <th>dis_plus_sub</th>\n",
              "      <th>online_merch_avg</th>\n",
              "      <th>est_annual_travel</th>\n",
              "      <th>est_annual_leisure</th>\n",
              "      <th>est_hhold_FICO</th>\n",
              "    </tr>\n",
              "  </thead>\n",
              "  <tbody>\n",
              "    <tr>\n",
              "      <th>0</th>\n",
              "      <td>7525</td>\n",
              "      <td>7825</td>\n",
              "      <td>1</td>\n",
              "      <td>0</td>\n",
              "      <td>2</td>\n",
              "      <td>9.0</td>\n",
              "      <td>0</td>\n",
              "      <td>826.0</td>\n",
              "      <td>2309.0</td>\n",
              "      <td>4094.0</td>\n",
              "      <td>701</td>\n",
              "    </tr>\n",
              "    <tr>\n",
              "      <th>1</th>\n",
              "      <td>639815</td>\n",
              "      <td>449775</td>\n",
              "      <td>1</td>\n",
              "      <td>1</td>\n",
              "      <td>2</td>\n",
              "      <td>11.0</td>\n",
              "      <td>0</td>\n",
              "      <td>1779.0</td>\n",
              "      <td>9060.0</td>\n",
              "      <td>8670.0</td>\n",
              "      <td>764</td>\n",
              "    </tr>\n",
              "    <tr>\n",
              "      <th>2</th>\n",
              "      <td>288847</td>\n",
              "      <td>204750</td>\n",
              "      <td>1</td>\n",
              "      <td>6</td>\n",
              "      <td>3</td>\n",
              "      <td>13.0</td>\n",
              "      <td>1</td>\n",
              "      <td>2121.0</td>\n",
              "      <td>6436.0</td>\n",
              "      <td>5021.0</td>\n",
              "      <td>720</td>\n",
              "    </tr>\n",
              "    <tr>\n",
              "      <th>3</th>\n",
              "      <td>191791</td>\n",
              "      <td>136730</td>\n",
              "      <td>1</td>\n",
              "      <td>1</td>\n",
              "      <td>1</td>\n",
              "      <td>8.0</td>\n",
              "      <td>1</td>\n",
              "      <td>1880.0</td>\n",
              "      <td>13107.0</td>\n",
              "      <td>66074.0</td>\n",
              "      <td>783</td>\n",
              "    </tr>\n",
              "    <tr>\n",
              "      <th>4</th>\n",
              "      <td>96527</td>\n",
              "      <td>72165</td>\n",
              "      <td>0</td>\n",
              "      <td>3</td>\n",
              "      <td>0</td>\n",
              "      <td>0.0</td>\n",
              "      <td>0</td>\n",
              "      <td>775.0</td>\n",
              "      <td>2042.0</td>\n",
              "      <td>2846.0</td>\n",
              "      <td>757</td>\n",
              "    </tr>\n",
              "  </tbody>\n",
              "</table>\n",
              "</div>\n",
              "      <button class=\"colab-df-convert\" onclick=\"convertToInteractive('df-02a5ee1b-f399-423b-959a-e8705a527727')\"\n",
              "              title=\"Convert this dataframe to an interactive table.\"\n",
              "              style=\"display:none;\">\n",
              "        \n",
              "  <svg xmlns=\"http://www.w3.org/2000/svg\" height=\"24px\"viewBox=\"0 0 24 24\"\n",
              "       width=\"24px\">\n",
              "    <path d=\"M0 0h24v24H0V0z\" fill=\"none\"/>\n",
              "    <path d=\"M18.56 5.44l.94 2.06.94-2.06 2.06-.94-2.06-.94-.94-2.06-.94 2.06-2.06.94zm-11 1L8.5 8.5l.94-2.06 2.06-.94-2.06-.94L8.5 2.5l-.94 2.06-2.06.94zm10 10l.94 2.06.94-2.06 2.06-.94-2.06-.94-.94-2.06-.94 2.06-2.06.94z\"/><path d=\"M17.41 7.96l-1.37-1.37c-.4-.4-.92-.59-1.43-.59-.52 0-1.04.2-1.43.59L10.3 9.45l-7.72 7.72c-.78.78-.78 2.05 0 2.83L4 21.41c.39.39.9.59 1.41.59.51 0 1.02-.2 1.41-.59l7.78-7.78 2.81-2.81c.8-.78.8-2.07 0-2.86zM5.41 20L4 18.59l7.72-7.72 1.47 1.35L5.41 20z\"/>\n",
              "  </svg>\n",
              "      </button>\n",
              "      \n",
              "  <style>\n",
              "    .colab-df-container {\n",
              "      display:flex;\n",
              "      flex-wrap:wrap;\n",
              "      gap: 12px;\n",
              "    }\n",
              "\n",
              "    .colab-df-convert {\n",
              "      background-color: #E8F0FE;\n",
              "      border: none;\n",
              "      border-radius: 50%;\n",
              "      cursor: pointer;\n",
              "      display: none;\n",
              "      fill: #1967D2;\n",
              "      height: 32px;\n",
              "      padding: 0 0 0 0;\n",
              "      width: 32px;\n",
              "    }\n",
              "\n",
              "    .colab-df-convert:hover {\n",
              "      background-color: #E2EBFA;\n",
              "      box-shadow: 0px 1px 2px rgba(60, 64, 67, 0.3), 0px 1px 3px 1px rgba(60, 64, 67, 0.15);\n",
              "      fill: #174EA6;\n",
              "    }\n",
              "\n",
              "    [theme=dark] .colab-df-convert {\n",
              "      background-color: #3B4455;\n",
              "      fill: #D2E3FC;\n",
              "    }\n",
              "\n",
              "    [theme=dark] .colab-df-convert:hover {\n",
              "      background-color: #434B5C;\n",
              "      box-shadow: 0px 1px 3px 1px rgba(0, 0, 0, 0.15);\n",
              "      filter: drop-shadow(0px 1px 2px rgba(0, 0, 0, 0.3));\n",
              "      fill: #FFFFFF;\n",
              "    }\n",
              "  </style>\n",
              "\n",
              "      <script>\n",
              "        const buttonEl =\n",
              "          document.querySelector('#df-02a5ee1b-f399-423b-959a-e8705a527727 button.colab-df-convert');\n",
              "        buttonEl.style.display =\n",
              "          google.colab.kernel.accessAllowed ? 'block' : 'none';\n",
              "\n",
              "        async function convertToInteractive(key) {\n",
              "          const element = document.querySelector('#df-02a5ee1b-f399-423b-959a-e8705a527727');\n",
              "          const dataTable =\n",
              "            await google.colab.kernel.invokeFunction('convertToInteractive',\n",
              "                                                     [key], {});\n",
              "          if (!dataTable) return;\n",
              "\n",
              "          const docLinkHtml = 'Like what you see? Visit the ' +\n",
              "            '<a target=\"_blank\" href=https://colab.research.google.com/notebooks/data_table.ipynb>data table notebook</a>'\n",
              "            + ' to learn more about interactive tables.';\n",
              "          element.innerHTML = '';\n",
              "          dataTable['output_type'] = 'display_data';\n",
              "          await google.colab.output.renderOutput(dataTable, element);\n",
              "          const docLink = document.createElement('div');\n",
              "          docLink.innerHTML = docLinkHtml;\n",
              "          element.appendChild(docLink);\n",
              "        }\n",
              "      </script>\n",
              "    </div>\n",
              "  </div>\n",
              "  "
            ]
          },
          "metadata": {},
          "execution_count": 35
        }
      ]
    },
    {
      "cell_type": "markdown",
      "source": [
        "Now I have replaced the column that contains NA value with the 0, because the NA value occurs whenever the family do not have a child. It doesn't contain missing values now."
      ],
      "metadata": {
        "id": "_2kglDzTGSDf"
      }
    },
    {
      "cell_type": "code",
      "source": [
        "\n",
        "result = family.dtypes\n",
        "print(result)"
      ],
      "metadata": {
        "colab": {
          "base_uri": "https://localhost:8080/"
        },
        "id": "dPh8MfK3HpCb",
        "outputId": "7d6d8615-806a-4430-8b36-2145f62d7e63"
      },
      "execution_count": null,
      "outputs": [
        {
          "output_type": "stream",
          "name": "stdout",
          "text": [
            "est_net_worth           int64\n",
            "est_inc                 int64\n",
            "domestic                int64\n",
            "number_visits           int64\n",
            "number_children         int64\n",
            "oldest_child_age      float64\n",
            "online_merch_avg      float64\n",
            "est_annual_travel     float64\n",
            "est_annual_leisure    float64\n",
            "est_hhold_FICO          int64\n",
            "dtype: object\n"
          ]
        }
      ]
    },
    {
      "cell_type": "markdown",
      "source": [
        "In the above code, I checked the datatype pf each column."
      ],
      "metadata": {
        "id": "-NCGqEcrHvb2"
      }
    },
    {
      "cell_type": "markdown",
      "source": [
        "I standardized the dataset because there are different units in this dataset.\n",
        "\n"
      ],
      "metadata": {
        "id": "Tm3fJigTGuWC"
      }
    },
    {
      "cell_type": "code",
      "source": [
        "from sklearn.cluster import KMeans\n",
        "from sklearn import datasets\n",
        "\n",
        "distortions = []\n",
        "K = range(1,10)\n",
        "for k in K:\n",
        "    kmeanModel = KMeans(n_clusters=k)\n",
        "    kmeanModel.fit(df)\n",
        "    distortions.append(kmeanModel.inertia_)\n",
        "\n",
        "plt.figure(figsize=(16,8))\n",
        "plt.plot(K, distortions, 'bx-')\n",
        "plt.xlabel('k')\n",
        "plt.ylabel('Distortion')\n",
        "plt.title('The Elbow Method showing the optimal k')\n",
        "plt.show()\n"
      ],
      "metadata": {
        "colab": {
          "base_uri": "https://localhost:8080/",
          "height": 513
        },
        "id": "zQdmmfGYIKX6",
        "outputId": "756b01d1-6f65-4296-c6d9-a0641ecabece"
      },
      "execution_count": null,
      "outputs": [
        {
          "output_type": "display_data",
          "data": {
            "text/plain": [
              "<Figure size 1152x576 with 1 Axes>"
            ],
            "image/png": "[encoded data removed]"
          },
          "metadata": {
            "needs_background": "light"
          }
        }
      ]
    },
    {
      "cell_type": "markdown",
      "source": [
        "Using the standardized dataframe, I found the optimal k for from the elbow method. From the picture we can see that the best k is around 4."
      ],
      "metadata": {
        "id": "2A7sWkJdIUAS"
      }
    },
    {
      "cell_type": "code",
      "source": [
        "import scipy.stats as stats\n",
        "\n",
        "kmeanModel = KMeans(n_clusters=4)\n",
        "kmeans=kmeanModel.fit_predict(df)\n",
        "kmeanModel.fit_predict(df)\n",
        "\n",
        "df=pd.DataFrame(kmeans)\n",
        "family['cluster']=df\n",
        "family\n",
        "family.groupby(['cluster']).describe()"
      ],
      "metadata": {
        "colab": {
          "base_uri": "https://localhost:8080/",
          "height": 331
        },
        "id": "-OffphiDIs9H",
        "outputId": "75d7e91b-2fe4-4758-f638-3454472e4463"
      },
      "execution_count": null,
      "outputs": [
        {
          "output_type": "execute_result",
          "data": {
            "text/plain": [
              "        est_net_worth                                                   \\\n",
              "                count          mean           std      min         25%   \n",
              "cluster                                                                  \n",
              "0              3624.0  6.773990e+05  5.224770e+05    763.0   281466.00   \n",
              "1              4338.0  5.565739e+04  4.626314e+04     51.0    15956.25   \n",
              "2               799.0  4.186013e+06  2.169053e+06  10836.0  2494311.50   \n",
              "3               489.0  3.940012e+05  6.346302e+05    583.0    37325.00   \n",
              "\n",
              "                                          est_inc                ...  \\\n",
              "               50%         75%        max   count          mean  ...   \n",
              "cluster                                                          ...   \n",
              "0         503827.0   931059.75  4673946.0  3624.0  5.420195e+05  ...   \n",
              "1          43211.5    86840.00   338681.0  4338.0  4.198722e+04  ...   \n",
              "2        3577475.0  5557648.50  9883250.0   799.0  2.642408e+06  ...   \n",
              "3         131998.0   457405.00  7316784.0   489.0  2.948114e+05  ...   \n",
              "\n",
              "        est_annual_leisure          est_hhold_FICO                         \\\n",
              "                       75%      max          count        mean        std   \n",
              "cluster                                                                     \n",
              "0                 12801.50  67247.0         3624.0  749.830298  25.243351   \n",
              "1                  3039.75  53766.0         4338.0  750.440295  25.416780   \n",
              "2                 51085.50  74805.0          799.0  749.443054  24.756538   \n",
              "3                  7054.00  66074.0          489.0  753.472393  25.931731   \n",
              "\n",
              "                                            \n",
              "           min    25%    50%    75%    max  \n",
              "cluster                                     \n",
              "0        667.0  733.0  750.0  767.0  847.0  \n",
              "1        655.0  733.0  750.0  768.0  835.0  \n",
              "2        674.0  732.0  749.0  766.0  841.0  \n",
              "3        677.0  735.0  753.0  773.0  832.0  \n",
              "\n",
              "[4 rows x 80 columns]"
            ],
            "text/html": [
              "\n",
              "  <div id=\"df-cd9c4ce5-1cf6-4224-bac3-224d660fa102\">\n",
              "    <div class=\"colab-df-container\">\n",
              "      <div>\n",
              "<style scoped>\n",
              "    .dataframe tbody tr th:only-of-type {\n",
              "        vertical-align: middle;\n",
              "    }\n",
              "\n",
              "    .dataframe tbody tr th {\n",
              "        vertical-align: top;\n",
              "    }\n",
              "\n",
              "    .dataframe thead tr th {\n",
              "        text-align: left;\n",
              "    }\n",
              "\n",
              "    .dataframe thead tr:last-of-type th {\n",
              "        text-align: right;\n",
              "    }\n",
              "</style>\n",
              "<table border=\"1\" class=\"dataframe\">\n",
              "  <thead>\n",
              "    <tr>\n",
              "      <th></th>\n",
              "      <th colspan=\"8\" halign=\"left\">est_net_worth</th>\n",
              "      <th colspan=\"2\" halign=\"left\">est_inc</th>\n",
              "      <th>...</th>\n",
              "      <th colspan=\"2\" halign=\"left\">est_annual_leisure</th>\n",
              "      <th colspan=\"8\" halign=\"left\">est_hhold_FICO</th>\n",
              "    </tr>\n",
              "    <tr>\n",
              "      <th></th>\n",
              "      <th>count</th>\n",
              "      <th>mean</th>\n",
              "      <th>std</th>\n",
              "      <th>min</th>\n",
              "      <th>25%</th>\n",
              "      <th>50%</th>\n",
              "      <th>75%</th>\n",
              "      <th>max</th>\n",
              "      <th>count</th>\n",
              "      <th>mean</th>\n",
              "      <th>...</th>\n",
              "      <th>75%</th>\n",
              "      <th>max</th>\n",
              "      <th>count</th>\n",
              "      <th>mean</th>\n",
              "      <th>std</th>\n",
              "      <th>min</th>\n",
              "      <th>25%</th>\n",
              "      <th>50%</th>\n",
              "      <th>75%</th>\n",
              "      <th>max</th>\n",
              "    </tr>\n",
              "    <tr>\n",
              "      <th>cluster</th>\n",
              "      <th></th>\n",
              "      <th></th>\n",
              "      <th></th>\n",
              "      <th></th>\n",
              "      <th></th>\n",
              "      <th></th>\n",
              "      <th></th>\n",
              "      <th></th>\n",
              "      <th></th>\n",
              "      <th></th>\n",
              "      <th></th>\n",
              "      <th></th>\n",
              "      <th></th>\n",
              "      <th></th>\n",
              "      <th></th>\n",
              "      <th></th>\n",
              "      <th></th>\n",
              "      <th></th>\n",
              "      <th></th>\n",
              "      <th></th>\n",
              "      <th></th>\n",
              "    </tr>\n",
              "  </thead>\n",
              "  <tbody>\n",
              "    <tr>\n",
              "      <th>0</th>\n",
              "      <td>3624.0</td>\n",
              "      <td>6.773990e+05</td>\n",
              "      <td>5.224770e+05</td>\n",
              "      <td>763.0</td>\n",
              "      <td>281466.00</td>\n",
              "      <td>503827.0</td>\n",
              "      <td>931059.75</td>\n",
              "      <td>4673946.0</td>\n",
              "      <td>3624.0</td>\n",
              "      <td>5.420195e+05</td>\n",
              "      <td>...</td>\n",
              "      <td>12801.50</td>\n",
              "      <td>67247.0</td>\n",
              "      <td>3624.0</td>\n",
              "      <td>749.830298</td>\n",
              "      <td>25.243351</td>\n",
              "      <td>667.0</td>\n",
              "      <td>733.0</td>\n",
              "      <td>750.0</td>\n",
              "      <td>767.0</td>\n",
              "      <td>847.0</td>\n",
              "    </tr>\n",
              "    <tr>\n",
              "      <th>1</th>\n",
              "      <td>4338.0</td>\n",
              "      <td>5.565739e+04</td>\n",
              "      <td>4.626314e+04</td>\n",
              "      <td>51.0</td>\n",
              "      <td>15956.25</td>\n",
              "      <td>43211.5</td>\n",
              "      <td>86840.00</td>\n",
              "      <td>338681.0</td>\n",
              "      <td>4338.0</td>\n",
              "      <td>4.198722e+04</td>\n",
              "      <td>...</td>\n",
              "      <td>3039.75</td>\n",
              "      <td>53766.0</td>\n",
              "      <td>4338.0</td>\n",
              "      <td>750.440295</td>\n",
              "      <td>25.416780</td>\n",
              "      <td>655.0</td>\n",
              "      <td>733.0</td>\n",
              "      <td>750.0</td>\n",
              "      <td>768.0</td>\n",
              "      <td>835.0</td>\n",
              "    </tr>\n",
              "    <tr>\n",
              "      <th>2</th>\n",
              "      <td>799.0</td>\n",
              "      <td>4.186013e+06</td>\n",
              "      <td>2.169053e+06</td>\n",
              "      <td>10836.0</td>\n",
              "      <td>2494311.50</td>\n",
              "      <td>3577475.0</td>\n",
              "      <td>5557648.50</td>\n",
              "      <td>9883250.0</td>\n",
              "      <td>799.0</td>\n",
              "      <td>2.642408e+06</td>\n",
              "      <td>...</td>\n",
              "      <td>51085.50</td>\n",
              "      <td>74805.0</td>\n",
              "      <td>799.0</td>\n",
              "      <td>749.443054</td>\n",
              "      <td>24.756538</td>\n",
              "      <td>674.0</td>\n",
              "      <td>732.0</td>\n",
              "      <td>749.0</td>\n",
              "      <td>766.0</td>\n",
              "      <td>841.0</td>\n",
              "    </tr>\n",
              "    <tr>\n",
              "      <th>3</th>\n",
              "      <td>489.0</td>\n",
              "      <td>3.940012e+05</td>\n",
              "      <td>6.346302e+05</td>\n",
              "      <td>583.0</td>\n",
              "      <td>37325.00</td>\n",
              "      <td>131998.0</td>\n",
              "      <td>457405.00</td>\n",
              "      <td>7316784.0</td>\n",
              "      <td>489.0</td>\n",
              "      <td>2.948114e+05</td>\n",
              "      <td>...</td>\n",
              "      <td>7054.00</td>\n",
              "      <td>66074.0</td>\n",
              "      <td>489.0</td>\n",
              "      <td>753.472393</td>\n",
              "      <td>25.931731</td>\n",
              "      <td>677.0</td>\n",
              "      <td>735.0</td>\n",
              "      <td>753.0</td>\n",
              "      <td>773.0</td>\n",
              "      <td>832.0</td>\n",
              "    </tr>\n",
              "  </tbody>\n",
              "</table>\n",
              "<p>4 rows × 80 columns</p>\n",
              "</div>\n",
              "      <button class=\"colab-df-convert\" onclick=\"convertToInteractive('df-cd9c4ce5-1cf6-4224-bac3-224d660fa102')\"\n",
              "              title=\"Convert this dataframe to an interactive table.\"\n",
              "              style=\"display:none;\">\n",
              "        \n",
              "  <svg xmlns=\"http://www.w3.org/2000/svg\" height=\"24px\"viewBox=\"0 0 24 24\"\n",
              "       width=\"24px\">\n",
              "    <path d=\"M0 0h24v24H0V0z\" fill=\"none\"/>\n",
              "    <path d=\"M18.56 5.44l.94 2.06.94-2.06 2.06-.94-2.06-.94-.94-2.06-.94 2.06-2.06.94zm-11 1L8.5 8.5l.94-2.06 2.06-.94-2.06-.94L8.5 2.5l-.94 2.06-2.06.94zm10 10l.94 2.06.94-2.06 2.06-.94-2.06-.94-.94-2.06-.94 2.06-2.06.94z\"/><path d=\"M17.41 7.96l-1.37-1.37c-.4-.4-.92-.59-1.43-.59-.52 0-1.04.2-1.43.59L10.3 9.45l-7.72 7.72c-.78.78-.78 2.05 0 2.83L4 21.41c.39.39.9.59 1.41.59.51 0 1.02-.2 1.41-.59l7.78-7.78 2.81-2.81c.8-.78.8-2.07 0-2.86zM5.41 20L4 18.59l7.72-7.72 1.47 1.35L5.41 20z\"/>\n",
              "  </svg>\n",
              "      </button>\n",
              "      \n",
              "  <style>\n",
              "    .colab-df-container {\n",
              "      display:flex;\n",
              "      flex-wrap:wrap;\n",
              "      gap: 12px;\n",
              "    }\n",
              "\n",
              "    .colab-df-convert {\n",
              "      background-color: #E8F0FE;\n",
              "      border: none;\n",
              "      border-radius: 50%;\n",
              "      cursor: pointer;\n",
              "      display: none;\n",
              "      fill: #1967D2;\n",
              "      height: 32px;\n",
              "      padding: 0 0 0 0;\n",
              "      width: 32px;\n",
              "    }\n",
              "\n",
              "    .colab-df-convert:hover {\n",
              "      background-color: #E2EBFA;\n",
              "      box-shadow: 0px 1px 2px rgba(60, 64, 67, 0.3), 0px 1px 3px 1px rgba(60, 64, 67, 0.15);\n",
              "      fill: #174EA6;\n",
              "    }\n",
              "\n",
              "    [theme=dark] .colab-df-convert {\n",
              "      background-color: #3B4455;\n",
              "      fill: #D2E3FC;\n",
              "    }\n",
              "\n",
              "    [theme=dark] .colab-df-convert:hover {\n",
              "      background-color: #434B5C;\n",
              "      box-shadow: 0px 1px 3px 1px rgba(0, 0, 0, 0.15);\n",
              "      filter: drop-shadow(0px 1px 2px rgba(0, 0, 0, 0.3));\n",
              "      fill: #FFFFFF;\n",
              "    }\n",
              "  </style>\n",
              "\n",
              "      <script>\n",
              "        const buttonEl =\n",
              "          document.querySelector('#df-cd9c4ce5-1cf6-4224-bac3-224d660fa102 button.colab-df-convert');\n",
              "        buttonEl.style.display =\n",
              "          google.colab.kernel.accessAllowed ? 'block' : 'none';\n",
              "\n",
              "        async function convertToInteractive(key) {\n",
              "          const element = document.querySelector('#df-cd9c4ce5-1cf6-4224-bac3-224d660fa102');\n",
              "          const dataTable =\n",
              "            await google.colab.kernel.invokeFunction('convertToInteractive',\n",
              "                                                     [key], {});\n",
              "          if (!dataTable) return;\n",
              "\n",
              "          const docLinkHtml = 'Like what you see? Visit the ' +\n",
              "            '<a target=\"_blank\" href=https://colab.research.google.com/notebooks/data_table.ipynb>data table notebook</a>'\n",
              "            + ' to learn more about interactive tables.';\n",
              "          element.innerHTML = '';\n",
              "          dataTable['output_type'] = 'display_data';\n",
              "          await google.colab.output.renderOutput(dataTable, element);\n",
              "          const docLink = document.createElement('div');\n",
              "          docLink.innerHTML = docLinkHtml;\n",
              "          element.appendChild(docLink);\n",
              "        }\n",
              "      </script>\n",
              "    </div>\n",
              "  </div>\n",
              "  "
            ]
          },
          "metadata": {},
          "execution_count": 116
        }
      ]
    },
    {
      "cell_type": "markdown",
      "source": [
        "## Cluster 0: [Huge family]"
      ],
      "metadata": {
        "id": "G_mNBTO6guZL"
      }
    },
    {
      "cell_type": "code",
      "source": [
        "sns.barplot(x='cluster',y='number_children',ci=None,data=family)"
      ],
      "metadata": {
        "colab": {
          "base_uri": "https://localhost:8080/",
          "height": 297
        },
        "id": "6V5rBcjvMW5F",
        "outputId": "ea59e25d-ca30-4a31-dd47-cf56d9f0c770"
      },
      "execution_count": null,
      "outputs": [
        {
          "output_type": "execute_result",
          "data": {
            "text/plain": [
              "<matplotlib.axes._subplots.AxesSubplot at 0x7f350e151dd0>"
            ]
          },
          "metadata": {},
          "execution_count": 147
        },
        {
          "output_type": "display_data",
          "data": {
            "text/plain": [
              "<Figure size 432x288 with 1 Axes>"
            ],
            "image/png": "[encoded data removed]"
          },
          "metadata": {
            "needs_background": "light"
          }
        }
      ]
    },
    {
      "cell_type": "code",
      "source": [
        "sns.scatterplot(data=family,x='number_visits',y='number_children',hue='cluster')"
      ],
      "metadata": {
        "colab": {
          "base_uri": "https://localhost:8080/",
          "height": 298
        },
        "id": "EkFoh3vWcG-g",
        "outputId": "7ac51356-46f4-486f-fad2-797e539397b1"
      },
      "execution_count": null,
      "outputs": [
        {
          "output_type": "execute_result",
          "data": {
            "text/plain": [
              "<matplotlib.axes._subplots.AxesSubplot at 0x7f3512080a90>"
            ]
          },
          "metadata": {},
          "execution_count": 124
        },
        {
          "output_type": "display_data",
          "data": {
            "text/plain": [
              "<Figure size 432x288 with 1 Axes>"
            ],
            "image/png": "[encoded data removed]"
          },
          "metadata": {
            "needs_background": "light"
          }
        }
      ]
    },
    {
      "cell_type": "markdown",
      "source": [
        "From the above scatterplot and barplot, I discover that cluster 0 is the cluster with most kids numbers, and the least time of visitings. Therefore, I name this family: Huge family.\n",
        "The marketing strategy for this type of family is to provide fast pass and special services for family that has equal or more than 4 kids."
      ],
      "metadata": {
        "id": "2A03e4o2hPN7"
      }
    },
    {
      "cell_type": "markdown",
      "source": [
        "## Cluster 1 [Not a travel fan]"
      ],
      "metadata": {
        "id": "VBNqxNv9h-RM"
      }
    },
    {
      "cell_type": "code",
      "source": [
        "sns.barplot(x='cluster',y='est_annual_travel',ci=None,data=family)"
      ],
      "metadata": {
        "colab": {
          "base_uri": "https://localhost:8080/",
          "height": 297
        },
        "id": "gOrAetnyeRES",
        "outputId": "beff3875-b190-4e49-c4b4-d505084278e7"
      },
      "execution_count": null,
      "outputs": [
        {
          "output_type": "execute_result",
          "data": {
            "text/plain": [
              "<matplotlib.axes._subplots.AxesSubplot at 0x7f350e2b7a10>"
            ]
          },
          "metadata": {},
          "execution_count": 146
        },
        {
          "output_type": "display_data",
          "data": {
            "text/plain": [
              "<Figure size 432x288 with 1 Axes>"
            ],
            "image/png": "[encoded data removed]"
          },
          "metadata": {
            "needs_background": "light"
          }
        }
      ]
    },
    {
      "cell_type": "code",
      "source": [
        "sns.barplot(x='cluster',y='est_net_worth',ci=None,data=family)"
      ],
      "metadata": {
        "colab": {
          "base_uri": "https://localhost:8080/",
          "height": 308
        },
        "id": "e07VhqdVL7XV",
        "outputId": "25ca7349-f2c5-40df-c094-41ae860f3e37"
      },
      "execution_count": null,
      "outputs": [
        {
          "output_type": "execute_result",
          "data": {
            "text/plain": [
              "<matplotlib.axes._subplots.AxesSubplot at 0x7f350e1ea6d0>"
            ]
          },
          "metadata": {},
          "execution_count": 145
        },
        {
          "output_type": "display_data",
          "data": {
            "text/plain": [
              "<Figure size 432x288 with 1 Axes>"
            ],
            "image/png": "[encoded data removed]"
          },
          "metadata": {
            "needs_background": "light"
          }
        }
      ]
    },
    {
      "cell_type": "markdown",
      "source": [
        "For cluster 1, they have the lowest net worth, and the lowest estimating annual travel spend. I would name them: Not a travel fan.\n",
        "Their other characteristics including: have less leisure time, oldest kids age higher, do not like to spend online. \n",
        "However, cluster 1 has the highest number of people. Therefore, for the marketing strategy for them, I would suggest to promote low price on off-line advertisements, such as TV commercial and billboards. Create exciting seasonal or holidy shows to attract more of these group of families."
      ],
      "metadata": {
        "id": "Bm8Hc9Arjvok"
      }
    },
    {
      "cell_type": "markdown",
      "source": [
        "## Cluster 2: [Big spenders]"
      ],
      "metadata": {
        "id": "JGrbE4U2lYC9"
      }
    },
    {
      "cell_type": "code",
      "source": [
        "import seaborn as sns\n",
        "sns.barplot(x='cluster',y='online_merch_avg',ci=None,data=family)"
      ],
      "metadata": {
        "colab": {
          "base_uri": "https://localhost:8080/",
          "height": 297
        },
        "id": "xrAQSqnxKllw",
        "outputId": "f5779e49-0b54-4651-ad86-a36f92fd9f27"
      },
      "execution_count": null,
      "outputs": [
        {
          "output_type": "execute_result",
          "data": {
            "text/plain": [
              "<matplotlib.axes._subplots.AxesSubplot at 0x7f350e51b4d0>"
            ]
          },
          "metadata": {},
          "execution_count": 142
        },
        {
          "output_type": "display_data",
          "data": {
            "text/plain": [
              "<Figure size 432x288 with 1 Axes>"
            ],
            "image/png": "[encoded data removed]"
          },
          "metadata": {
            "needs_background": "light"
          }
        }
      ]
    },
    {
      "cell_type": "code",
      "source": [
        "sns.boxplot(data=family,x='cluster',y='est_annual_travel',linewidth=1)"
      ],
      "metadata": {
        "colab": {
          "base_uri": "https://localhost:8080/",
          "height": 297
        },
        "id": "vCzZg21CLybc",
        "outputId": "60aa0517-1096-4860-8ff4-7600b7813c2a"
      },
      "execution_count": null,
      "outputs": [
        {
          "output_type": "execute_result",
          "data": {
            "text/plain": [
              "<matplotlib.axes._subplots.AxesSubplot at 0x7f350e195410>"
            ]
          },
          "metadata": {},
          "execution_count": 156
        },
        {
          "output_type": "display_data",
          "data": {
            "text/plain": [
              "<Figure size 432x288 with 1 Axes>"
            ],
            "image/png": "[encoded data removed]"
          },
          "metadata": {
            "needs_background": "light"
          }
        }
      ]
    },
    {
      "cell_type": "code",
      "source": [
        "sns.scatterplot(data=family,x='est_net_worth',y='number_visits',hue='est_inc')"
      ],
      "metadata": {
        "colab": {
          "base_uri": "https://localhost:8080/",
          "height": 298
        },
        "id": "_vzc_P1yMnmf",
        "outputId": "59f31967-b993-48fc-f222-a380dd7b1610"
      },
      "execution_count": null,
      "outputs": [
        {
          "output_type": "execute_result",
          "data": {
            "text/plain": [
              "<matplotlib.axes._subplots.AxesSubplot at 0x7f350e425410>"
            ]
          },
          "metadata": {},
          "execution_count": 144
        },
        {
          "output_type": "display_data",
          "data": {
            "text/plain": [
              "<Figure size 432x288 with 1 Axes>"
            ],
            "image/png": "[encoded data removed]"
          },
          "metadata": {
            "needs_background": "light"
          }
        }
      ]
    },
    {
      "cell_type": "markdown",
      "source": [
        "The families in cluster 2 are the highest net worth and highest annual spending on travel. Even though they are not the ones visiting the park the most, they like to spend a lot on the online merchandise. \n",
        "Therefore, I name them: The big spenders.\n",
        "For The \"big spenders\", I suggest the digital marketing strategy, directing their clicks to the online store. Such as making on social media of the online products, or sending email campaigns for these families to see the newest products."
      ],
      "metadata": {
        "id": "IvNOF6Vrlt6Y"
      }
    },
    {
      "cell_type": "markdown",
      "source": [
        "## Cluster 3: [Romance Couple]"
      ],
      "metadata": {
        "id": "wDPARJvnmo3d"
      }
    },
    {
      "cell_type": "code",
      "source": [
        "sns.barplot(x='cluster',y='number_children',ci=None,data=family)"
      ],
      "metadata": {
        "colab": {
          "base_uri": "https://localhost:8080/",
          "height": 297
        },
        "id": "UBTiq0TXd9LW",
        "outputId": "d6e17f53-e666-4d1f-c0e8-a803626175c9"
      },
      "execution_count": null,
      "outputs": [
        {
          "output_type": "execute_result",
          "data": {
            "text/plain": [
              "<matplotlib.axes._subplots.AxesSubplot at 0x7f350e1765d0>"
            ]
          },
          "metadata": {},
          "execution_count": 148
        },
        {
          "output_type": "display_data",
          "data": {
            "text/plain": [
              "<Figure size 432x288 with 1 Axes>"
            ],
            "image/png": "[encoded data removed]"
          },
          "metadata": {
            "needs_background": "light"
          }
        }
      ]
    },
    {
      "cell_type": "code",
      "source": [
        "sns.barplot(x='cluster',y='number_visits',ci=None,data=family)"
      ],
      "metadata": {
        "colab": {
          "base_uri": "https://localhost:8080/",
          "height": 297
        },
        "id": "iZn5SFJYnubi",
        "outputId": "b76f2a3f-dbf3-4a34-f7cd-0432060caee0"
      },
      "execution_count": null,
      "outputs": [
        {
          "output_type": "execute_result",
          "data": {
            "text/plain": [
              "<matplotlib.axes._subplots.AxesSubplot at 0x7f350df5b510>"
            ]
          },
          "metadata": {},
          "execution_count": 153
        },
        {
          "output_type": "display_data",
          "data": {
            "text/plain": [
              "<Figure size 432x288 with 1 Axes>"
            ],
            "image/png": "[encoded data removed]"
          },
          "metadata": {
            "needs_background": "light"
          }
        }
      ]
    },
    {
      "cell_type": "markdown",
      "source": [
        "For cluster 3, they are the families with 0 kids. I found that they have the highest number of visits, so I name them the Romance Couples. They also have characters that they have lowest income. Therefore, I believe they are younger couples that loves to have fun together.\n",
        "My suggestion of their marketing strategy is to provide annual passes to attract them with a preferential price, and changing quarterly themes to encourage them to have multiple visits.\n"
      ],
      "metadata": {
        "id": "CW5sj-rwcGsS"
      }
    },
    {
      "cell_type": "markdown",
      "source": [
        "## Conclusion for Segmentation and Targeting:\n",
        "For the families that comes to Disney park, there are four different marketing segmentations. The first is called Huge Family. They have most number of kids, and the least time of visitings. The marketing strategy for this type of family is to provide fast pass and special services for family that has equal or more than 4 kids. \n",
        "\n",
        "The second kind of family is called Not a travel fan. They have the lowest net worth, and the lowest estimating annual travel spend. Their other characteristics including: have less leisure time, oldest kids age higher, do not like to spend online. Therefore, for the marketing strategy for them is to promote low price on off-line advertisements, such as TV commercial and billboards. Create exciting seasonal or holidy shows to attract more of these group of families.\n",
        "\n",
        "The next family is called The big spenders. They are the highest net worth and highest annual spending on travel. Even though they are not the ones visiting the park the most, they like to spend a lot on the online merchandise. The marketing strategy for The \"big spenders\"is digital marketing strategy, directing their clicks to the online store. Such as making on social media of the online products, or sending email campaigns for these families to see the newest products.\n",
        "\n",
        "Finally, families with no kids is called Romance Couples. They have the lowest income and the highest number of visitsis. Therefore, I believe they are younger couples that loves to have fun together. Their marketing strategy is to provide annual passes to attract them with a preferential price, and changing quarterly themes to encourage them to have multiple visits.\n"
      ],
      "metadata": {
        "id": "5xSuhVFJa7N1"
      }
    },
    {
      "cell_type": "markdown",
      "source": [
        "# Zeping-Conjoint Analysis"
      ],
      "metadata": {
        "id": "_8B8_AKmk44r"
      }
    },
    {
      "cell_type": "code",
      "source": [
        "import pandas as pd\n",
        "import numpy as np\n",
        "%matplotlib inline"
      ],
      "metadata": {
        "id": "csgdcflOlLBw"
      },
      "execution_count": null,
      "outputs": []
    },
    {
      "cell_type": "code",
      "source": [
        "amenity = pd.read_csv(\"hotel_amenities.csv\")\n",
        "amenity.head(5)"
      ],
      "metadata": {
        "id": "rFGD3p9invLs",
        "colab": {
          "base_uri": "https://localhost:8080/",
          "height": 187
        },
        "outputId": "38c5e3c2-e1a6-4e38-e20e-a246205ba145"
      },
      "execution_count": null,
      "outputs": [
        {
          "output_type": "error",
          "ename": "NameError",
          "evalue": "ignored",
          "traceback": [
            "\u001b[0;31m---------------------------------------------------------------------------\u001b[0m",
            "\u001b[0;31mNameError\u001b[0m                                 Traceback (most recent call last)",
            "\u001b[0;32m<ipython-input-3-189e88b2c1dc>\u001b[0m in \u001b[0;36m<module>\u001b[0;34m\u001b[0m\n\u001b[0;32m----> 1\u001b[0;31m \u001b[0mamenity\u001b[0m \u001b[0;34m=\u001b[0m \u001b[0mpd\u001b[0m\u001b[0;34m.\u001b[0m\u001b[0mread_csv\u001b[0m\u001b[0;34m(\u001b[0m\u001b[0;34m\"hotel_amenities.csv\"\u001b[0m\u001b[0;34m)\u001b[0m\u001b[0;34m\u001b[0m\u001b[0;34m\u001b[0m\u001b[0m\n\u001b[0m\u001b[1;32m      2\u001b[0m \u001b[0mamenity\u001b[0m\u001b[0;34m.\u001b[0m\u001b[0mhead\u001b[0m\u001b[0;34m(\u001b[0m\u001b[0;36m5\u001b[0m\u001b[0;34m)\u001b[0m\u001b[0;34m\u001b[0m\u001b[0;34m\u001b[0m\u001b[0m\n",
            "\u001b[0;31mNameError\u001b[0m: name 'pd' is not defined"
          ]
        }
      ]
    },
    {
      "cell_type": "markdown",
      "source": [],
      "metadata": {
        "id": "N8Vw-DBXjuud"
      }
    },
    {
      "cell_type": "code",
      "source": [
        "import pandas as pd\n",
        "import numpy as np\n",
        "import matplotlib.pyplot as plt\n",
        "import seaborn as sns\n",
        "%matplotlib inline"
      ],
      "metadata": {
        "id": "_pqgQn6nkaLo"
      },
      "execution_count": null,
      "outputs": []
    },
    {
      "cell_type": "markdown",
      "source": [
        "# Bell - Classification"
      ],
      "metadata": {
        "id": "VZb7JOSHjsOu"
      }
    },
    {
      "cell_type": "code",
      "source": [
        "import pandas as pd\n",
        "import numpy as np\n",
        "import matplotlib.pyplot as plt\n",
        "import seaborn as sns\n",
        "%matplotlib inline"
      ],
      "metadata": {
        "id": "saF0LmJ26-KF"
      },
      "execution_count": null,
      "outputs": []
    },
    {
      "cell_type": "code",
      "source": [
        "df = pd.read_csv(r'C:\\Users\\teejb\\Documents\\cruise_returners.csv')"
      ],
      "metadata": {
        "id": "8xct3W836-Y-"
      },
      "execution_count": null,
      "outputs": []
    },
    {
      "cell_type": "code",
      "source": [
        "df.isnull().sum()"
      ],
      "metadata": {
        "id": "1-7LgJdQ6-bW"
      },
      "execution_count": null,
      "outputs": []
    },
    {
      "cell_type": "code",
      "source": [
        "df.drop(['hhold_ID'], axis=1, inplace=True)"
      ],
      "metadata": {
        "id": "KomumqlJ6-fQ"
      },
      "execution_count": null,
      "outputs": []
    },
    {
      "cell_type": "code",
      "source": [
        "df.oldest_child_age.describe()"
      ],
      "metadata": {
        "id": "DTspu6zI6-je"
      },
      "execution_count": null,
      "outputs": []
    },
    {
      "cell_type": "code",
      "source": [
        "df.groupby('return_1065').oldest_child_age.mean()"
      ],
      "metadata": {
        "id": "I6nfdYEE6-mL"
      },
      "execution_count": null,
      "outputs": []
    },
    {
      "cell_type": "code",
      "source": [
        "plt.figure(figsize=(15,8))\n",
        "sns.boxplot(x='return_1065',y='oldest_child_age',data=df,palette='winter');"
      ],
      "metadata": {
        "id": "joUWAtkO6-ow"
      },
      "execution_count": null,
      "outputs": []
    },
    {
      "cell_type": "code",
      "source": [
        "def impute_oldest_child_age(cols):\n",
        "    oldest_child_age = cols[0]\n",
        "    return_1065 = cols[1]\n",
        "    \n",
        "    if pd.isnull(oldest_child_age):\n",
        "        \n",
        "        if return_1065 == 1:\n",
        "            return 9\n",
        "        else:\n",
        "            return 10\n",
        "    else: \n",
        "            return oldest_child_age"
      ],
      "metadata": {
        "id": "0O3q1Edj6-rS"
      },
      "execution_count": null,
      "outputs": []
    },
    {
      "cell_type": "code",
      "source": [
        "df['oldest_child_age'] = df[['oldest_child_age','return_1065']].apply(impute_oldest_child_age,axis=1)"
      ],
      "metadata": {
        "id": "FtfG586E6-wx"
      },
      "execution_count": null,
      "outputs": []
    },
    {
      "cell_type": "code",
      "source": [
        "df.isnull().sum()"
      ],
      "metadata": {
        "id": "ISyCOcJj7Zkp"
      },
      "execution_count": null,
      "outputs": []
    },
    {
      "cell_type": "code",
      "source": [
        "plt.figure(figsize=(15,8))\n",
        "sns.boxplot(x='return_1065',y='cruise_theme',data=df,palette='winter');"
      ],
      "metadata": {
        "id": "t6t8QPwb7Zoy"
      },
      "execution_count": null,
      "outputs": []
    },
    {
      "cell_type": "code",
      "source": [
        "df['cruise_theme']=df['cruise_theme'].str.replace('starwars','Star Wars')"
      ],
      "metadata": {
        "id": "6tNGsTbz7Zrh"
      },
      "execution_count": null,
      "outputs": []
    },
    {
      "cell_type": "code",
      "source": [
        "df['cruise_theme']=df['cruise_theme'].str.replace('prin_fro','Princess/Frozen')"
      ],
      "metadata": {
        "id": "LLAdbQhh7ZuR"
      },
      "execution_count": null,
      "outputs": []
    },
    {
      "cell_type": "code",
      "source": [
        "plt.figure(figsize=(15,8))\n",
        "sns.boxplot(x='return_1065',y='cruise_theme',data=df,palette='winter');"
      ],
      "metadata": {
        "id": "UbUY9MRY7Zwp"
      },
      "execution_count": null,
      "outputs": []
    },
    {
      "cell_type": "code",
      "source": [
        "df[['cruise_theme']] = df[['cruise_theme']].fillna('Star Wars')"
      ],
      "metadata": {
        "id": "njA6Qp2h7Zzx"
      },
      "execution_count": null,
      "outputs": []
    },
    {
      "cell_type": "code",
      "source": [
        "df.isnull().sum()"
      ],
      "metadata": {
        "id": "HzAmN-hs7Z5g"
      },
      "execution_count": null,
      "outputs": []
    },
    {
      "cell_type": "code",
      "source": [
        "df.dtypes"
      ],
      "metadata": {
        "id": "FPbKB2Gp7aAy"
      },
      "execution_count": null,
      "outputs": []
    },
    {
      "cell_type": "code",
      "source": [
        "df = pd.get_dummies(df, columns=['cabin_type', 'season_of_year', 'cruise_theme', 'embark_port'])"
      ],
      "metadata": {
        "id": "rviSeD7q7aIE"
      },
      "execution_count": null,
      "outputs": []
    },
    {
      "cell_type": "code",
      "source": [
        "df.columns"
      ],
      "metadata": {
        "id": "rAzZYSPy7aK_"
      },
      "execution_count": null,
      "outputs": []
    },
    {
      "cell_type": "code",
      "source": [
        "from sklearn.model_selection import train_test_split\n",
        "X=df[['discount_original', 'coupon_received', 'est_inc', 'ticket_spend',\n",
        "       'incidental_spending', 'park_package', 'res_to_port', 'number_children',\n",
        "       'oldest_child_age', 'dis_plus_sub','cabin_type_Concierge', 'cabin_type_Inside', 'cabin_type_Oceanview',\n",
        "       'cabin_type_Verandah', 'season_of_year_Fall', 'season_of_year_Spring',\n",
        "       'season_of_year_Summer', 'season_of_year_Winter', 'cruise_theme_Marvel',\n",
        "       'cruise_theme_Princess/Frozen', 'cruise_theme_Star Wars',\n",
        "       'embark_port_Barcelona', 'embark_port_Copenhagen',\n",
        "       'embark_port_New York', 'embark_port_Port Canaveral',\n",
        "       'embark_port_San Diego', 'embark_port_Vancouver']]\n",
        "y=df['return_1065']\n",
        "X_train, X_test, y_train, y_test = train_test_split(X, y, test_size=0.4, random_state=654)"
      ],
      "metadata": {
        "id": "HE0Dqqtj7aNb"
      },
      "execution_count": null,
      "outputs": []
    },
    {
      "cell_type": "code",
      "source": [
        "from sklearn.ensemble import RandomForestClassifier\n",
        "clf=RandomForestClassifier()\n",
        "clf.fit(X_train,y_train)"
      ],
      "metadata": {
        "id": "xDKmao9A7t4O"
      },
      "execution_count": null,
      "outputs": []
    },
    {
      "cell_type": "code",
      "source": [
        "feature_imp_df = pd.DataFrame(list(zip(clf.feature_importances_,X_train)))\n",
        "feature_imp_df.columns = ['feature importance' , 'feature']\n",
        "feature_imp_df = feature_imp_df.sort_values(by='feature importance', ascending=False)\n",
        "feature_imp_df"
      ],
      "metadata": {
        "id": "1RNfzZpP7t9v"
      },
      "execution_count": null,
      "outputs": []
    },
    {
      "cell_type": "code",
      "source": [
        "%matplotlib inline\n",
        "import matplotlib.pyplot as plt\n",
        "import seaborn as sns\n",
        "from sklearn.metrics import confusion_matrix\n",
        "predictions = clf.predict(X_test)\n",
        "mat = confusion_matrix(y_test, predictions)\n",
        "sns.heatmap(mat, fmt='g', square=True, annot=True, cbar=False)\n",
        "plt.xlabel(\"Predicted Result\")\n",
        "plt.ylabel(\"Actual Result\")\n",
        "a, b =plt.ylim()\n",
        "a += 0.5\n",
        "b -= 0.5\n",
        "plt.ylim(a,b)\n",
        "plt.show()"
      ],
      "metadata": {
        "id": "-Mp2aXsB7uD_"
      },
      "execution_count": null,
      "outputs": []
    },
    {
      "cell_type": "code",
      "source": [
        "from sklearn import metrics\n",
        "print(\"Accuracy:\",metrics.accuracy_score(y_test,predictions))"
      ],
      "metadata": {
        "id": "oAM4nGp97uGk"
      },
      "execution_count": null,
      "outputs": []
    },
    {
      "cell_type": "code",
      "source": [
        "print(metrics.classification_report(y_test, predictions))"
      ],
      "metadata": {
        "id": "gjJC3BH47uJB"
      },
      "execution_count": null,
      "outputs": []
    },
    {
      "cell_type": "code",
      "source": [
        "param_grid = {\n",
        "    'n_estimators': [50, 100, 150],\n",
        "    'max_depth': [2, 4, 6, 8],\n",
        "    'max_features':[4, 8, 12, 16, 20],\n",
        "    'min_samples_leaf':[2, 4, 6, 10],\n",
        "}"
      ],
      "metadata": {
        "id": "2bEWTz6H7uLz"
      },
      "execution_count": null,
      "outputs": []
    },
    {
      "cell_type": "code",
      "source": [
        "from sklearn.model_selection import GridSearchCV\n",
        "\n",
        "CV_rfc = GridSearchCV(estimator=clf, param_grid=param_grid, cv=5)\n",
        "CV_rfc.fit(X_train, y_train)\n",
        "print(CV_rfc.best_params_)"
      ],
      "metadata": {
        "id": "hpC8UFBH77Z-"
      },
      "execution_count": null,
      "outputs": []
    },
    {
      "cell_type": "code",
      "source": [
        "clf=RandomForestClassifier(n_estimators=150, max_depth=8, max_features=12, min_samples_leaf=2, random_state=654)\n",
        "clf.fit(X_train,y_train)"
      ],
      "metadata": {
        "id": "0dtPQc2P77iW"
      },
      "execution_count": null,
      "outputs": []
    },
    {
      "cell_type": "code",
      "source": [
        "predictions = clf.predict(X_test)\n",
        "print(\"Accuracy:\",metrics.accuracy_score(y_test, predictions))"
      ],
      "metadata": {
        "id": "diFxEO4h77nj"
      },
      "execution_count": null,
      "outputs": []
    },
    {
      "cell_type": "code",
      "source": [
        "print(metrics.classification_report(y_test, predictions))"
      ],
      "metadata": {
        "id": "W4iUmgJm77qZ"
      },
      "execution_count": null,
      "outputs": []
    },
    {
      "cell_type": "code",
      "source": [
        "feature_imp_df = pd.DataFrame(list(zip(clf.feature_importances_,X_train)))\n",
        "feature_imp_df.columns = ['feature importance' , 'feature']\n",
        "feature_imp_df = feature_imp_df.sort_values(by='feature importance', ascending=False)\n",
        "feature_imp_df"
      ],
      "metadata": {
        "id": "6sBUbZOx77tQ"
      },
      "execution_count": null,
      "outputs": []
    },
    {
      "cell_type": "code",
      "source": [
        "%matplotlib inline\n",
        "import matplotlib.pyplot as plt\n",
        "import seaborn as sns\n",
        "from sklearn.metrics import confusion_matrix\n",
        "predictions = clf.predict(X_test)\n",
        "mat = confusion_matrix(y_test, predictions)\n",
        "sns.heatmap(mat, fmt='g', square=True, annot=True, cbar=False)\n",
        "plt.xlabel(\"Predicted Result\")\n",
        "plt.ylabel(\"Actual Result\")\n",
        "a, b =plt.ylim()\n",
        "a += 0.5\n",
        "b -= 0.5\n",
        "plt.ylim(a,b)\n",
        "plt.show()"
      ],
      "metadata": {
        "id": "bXnS-NA177wV"
      },
      "execution_count": null,
      "outputs": []
    },
    {
      "cell_type": "code",
      "source": [
        "predictions = clf.predict(X_test)\n",
        "print(\"Accuracy:\",metrics.accuracy_score(y_test, predictions))"
      ],
      "metadata": {
        "id": "xeXXAr3b7uPr"
      },
      "execution_count": null,
      "outputs": []
    },
    {
      "cell_type": "code",
      "source": [
        "print(metrics.classification_report(y_test, predictions))"
      ],
      "metadata": {
        "id": "5mkCN96q7uTz"
      },
      "execution_count": null,
      "outputs": []
    },
    {
      "cell_type": "markdown",
      "source": [
        "The Disney Cruise line is an important business unit for Disney and gathering data is crucial to understand customer preference as well as factors that contribute to their decisions to book an additional Disney Cruise in the future. Given the data set of cruise_returners.csv we were able to take this data and build a random forest tree model to determine whether a household would purchase tickets for a follow up trip. There were a few clean up steps needed to ensure the model can run correctly without any issues. Two of the data points, oldest child age and cruise theme, contained some blank values so these were updated to reflect the average age for returners and non-returners for the oldest child and for the cruise theme an assumption was made that the missing themes were to be replaced with Star Wars. Once the data was cleansed the model was run and was able to predict the purchase tickets for a follow up trip with an accuracy rate of 67%. When factoring in both potential outcomes, booking a return trip or not booking a return trip the balanced accuracy score came in at a similar 67%. In addition to the accuracy scores the model also produced a precision rate of 71%, recall rate of 68% and specificity rate of 66%. These additional metrics are useful, but false positives and negatives do not have an outsized importance. To help illustrate what is driving the model we looked at the feature importance for each of the data points provided in the data set. The feature importance represents the effect that a particular feature has on the model used and, in our case, it is the importance of the data points provided to predict if a household would be purchasing a follow up trip. In this model there were five data points that had the most importance. Number of Children, Discount Original, Res_to_port, park_package and oldest child age. The feature importance for these ranged from 0.129563 for number of children to 0.111128 for oldest child age. This is telling us the number of children a household has the largest effect on this model. This makes sense given the more children a family has the more the trip is going to cost. If a family has a lot of children, they may potentially book a return cruise, but it might be done years apart from each other. If the household only has one child, they may return every year until their child grows out of the Disney age. You can look at the oldest child age as well in this context. It also has a high effect on the model and logically that makes sense. Once children hit a certain age it is unlikely that parents would necessarily spend money on a Disney Cruise for them. If they are part of a larger family, this may not be the case, but if it’s a smaller family, it may not make sense financially to bring the eldest child along or look for better alternatives in the Disney universe. Overall, the model was successful in being able to predict households who plan on buying tickets for a return trip. Once we were able to see the feature importance of each of the data points the model can be manipulated to remove the features that do not have much of an effect on the model. In going through this process, we can then fine tune the accuracy of the model."
      ],
      "metadata": {
        "id": "DFqERvtZ8PAe"
      }
    },
    {
      "cell_type": "markdown",
      "source": [],
      "metadata": {
        "id": "S9Vo0JLv8M9r"
      }
    },
    {
      "cell_type": "markdown",
      "source": [
        "# AB Testing"
      ],
      "metadata": {
        "id": "ke3GNoxaz_wW"
      }
    },
    {
      "cell_type": "code",
      "source": [
        "import pandas as pd\n",
        "import numpy as np\n",
        "import matplotlib.pyplot as plt\n",
        "import seaborn as sns\n",
        "%matplotlib inline\n",
        "import scipy\n",
        "import scipy.stats as stats\n",
        "from scipy.stats import chisquare"
      ],
      "metadata": {
        "id": "pEMKE-cf0CWn"
      },
      "execution_count": null,
      "outputs": []
    },
    {
      "cell_type": "code",
      "source": [
        "popcorn = pd.read_csv('popcorn_buckets.csv')"
      ],
      "metadata": {
        "colab": {
          "base_uri": "https://localhost:8080/",
          "height": 169
        },
        "id": "59bxxwYL0NLg",
        "outputId": "47c55a55-f6ed-4788-91f7-7604e47cc3b8"
      },
      "execution_count": null,
      "outputs": [
        {
          "output_type": "error",
          "ename": "NameError",
          "evalue": "ignored",
          "traceback": [
            "\u001b[0;31m---------------------------------------------------------------------------\u001b[0m",
            "\u001b[0;31mNameError\u001b[0m                                 Traceback (most recent call last)",
            "\u001b[0;32m<ipython-input-2-fb1b655ada5a>\u001b[0m in \u001b[0;36m<module>\u001b[0;34m\u001b[0m\n\u001b[0;32m----> 1\u001b[0;31m \u001b[0mpopcorn\u001b[0m \u001b[0;34m=\u001b[0m \u001b[0mpd\u001b[0m\u001b[0;34m.\u001b[0m\u001b[0mread_csv\u001b[0m\u001b[0;34m(\u001b[0m\u001b[0;34m'popcorn_buckets.csv'\u001b[0m\u001b[0;34m)\u001b[0m\u001b[0;34m\u001b[0m\u001b[0;34m\u001b[0m\u001b[0m\n\u001b[0m",
            "\u001b[0;31mNameError\u001b[0m: name 'pd' is not defined"
          ]
        }
      ]
    },
    {
      "cell_type": "markdown",
      "source": [
        "Is there a significance between popcorn buckets and popcorn sales?"
      ],
      "metadata": {
        "id": "uaJtHKNN0OmC"
      }
    },
    {
      "cell_type": "code",
      "source": [
        "popcorn.head()"
      ],
      "metadata": {
        "colab": {
          "base_uri": "https://localhost:8080/",
          "height": 169
        },
        "id": "gQQuZ1tI0QHh",
        "outputId": "ae76d530-43a2-4a06-e6c3-52cc17bd1448"
      },
      "execution_count": null,
      "outputs": [
        {
          "output_type": "error",
          "ename": "NameError",
          "evalue": "ignored",
          "traceback": [
            "\u001b[0;31m---------------------------------------------------------------------------\u001b[0m",
            "\u001b[0;31mNameError\u001b[0m                                 Traceback (most recent call last)",
            "\u001b[0;32m<ipython-input-1-2299a6b3387b>\u001b[0m in \u001b[0;36m<module>\u001b[0;34m\u001b[0m\n\u001b[0;32m----> 1\u001b[0;31m \u001b[0mpopcorn\u001b[0m\u001b[0;34m.\u001b[0m\u001b[0mhead\u001b[0m\u001b[0;34m(\u001b[0m\u001b[0;34m)\u001b[0m\u001b[0;34m\u001b[0m\u001b[0;34m\u001b[0m\u001b[0m\n\u001b[0m",
            "\u001b[0;31mNameError\u001b[0m: name 'popcorn' is not defined"
          ]
        }
      ]
    },
    {
      "cell_type": "code",
      "source": [
        "popcorn.describe()"
      ],
      "metadata": {
        "id": "QMZvDzHh0RXX"
      },
      "execution_count": null,
      "outputs": []
    },
    {
      "cell_type": "code",
      "source": [
        "popcorn.info()"
      ],
      "metadata": {
        "id": "hYwl4vOp0Syn"
      },
      "execution_count": null,
      "outputs": []
    },
    {
      "cell_type": "code",
      "source": [
        "df = popcorn.groupby('bucket').sum()[\n",
        "    'Q1_sales_USD'\n",
        "].plot.pie(\n",
        "    figsize=(7, 7),\n",
        "    autopct='%1.0f%%'\n",
        ")"
      ],
      "metadata": {
        "id": "d20rutDB0kOr"
      },
      "execution_count": null,
      "outputs": []
    },
    {
      "cell_type": "code",
      "source": [
        "means=popcorn.groupby('bucket').mean()['Q1_sales_USD']\n",
        "means"
      ],
      "metadata": {
        "id": "R8KGcXbP0l_8"
      },
      "execution_count": null,
      "outputs": []
    },
    {
      "cell_type": "code",
      "source": [
        "t, p = stats.ttest_ind(\n",
        "    popcorn.loc[popcorn['bucket'] == 'MickeySuit', 'Q1_sales_USD'].values, \n",
        "    popcorn.loc[popcorn['bucket'] == 'RedWhite', 'Q1_sales_USD'].values, \n",
        "    equal_var=False\n",
        ")\n",
        "print(t,p)\n",
        "\n",
        "t, p = stats.ttest_ind(\n",
        "    popcorn.loc[popcorn['bucket'] == 'Mermaid', 'Q1_sales_USD'].values, \n",
        "    popcorn.loc[popcorn['bucket'] == 'Cinderella', 'Q1_sales_USD'].values, \n",
        "    equal_var=False\n",
        ")\n",
        "\n",
        "print(t,p)\n",
        "\n",
        "t, p = stats.ttest_ind(\n",
        "    popcorn.loc[popcorn['bucket'] == 'Star_Wars', 'Q1_sales_USD'].values, \n",
        "    popcorn.loc[popcorn['bucket'] == 'MickeyEars', 'Q1_sales_USD'].values, \n",
        "    equal_var=False\n",
        ")\n",
        "\n",
        "print(t,p)\n",
        "\n"
      ],
      "metadata": {
        "id": "hjp6cQXB0o2h"
      },
      "execution_count": null,
      "outputs": []
    },
    {
      "cell_type": "markdown",
      "source": [
        "Using a t-test with 95% significance level, it is evident that the popcorn bucket matchup with the most meaninful results are between the MickeySuit bucket and the RedWhite bucket. With an extrememly low p value, we can reject the hypothesis that the buckets don't have an impact on sales in this case. However, looking at the pie chart and the other matchups, we can see that overall the buckets do not have that much of an impact on sales of popcorn. If Disney were to do anything, they could maybe put more of their resrouces into producing more of the MickeeySuit buckets and less of the RedWhite. "
      ],
      "metadata": {
        "id": "DQQgsVJU0y1V"
      }
    },
    {
      "cell_type": "markdown",
      "source": [
        "# Bell - Forecasting"
      ],
      "metadata": {
        "id": "xky2iKt4947Q"
      }
    },
    {
      "cell_type": "code",
      "source": [
        "import pandas as pd"
      ],
      "metadata": {
        "id": "2kZPIKog9EiR"
      },
      "execution_count": null,
      "outputs": []
    },
    {
      "cell_type": "code",
      "source": [
        "df = pd.read_csv(r'C:\\Users\\teejb\\Documents\\disneyincome.csv')"
      ],
      "metadata": {
        "id": "Fqrzfpfw9EyH"
      },
      "execution_count": null,
      "outputs": []
    },
    {
      "cell_type": "code",
      "source": [
        "df.info()"
      ],
      "metadata": {
        "id": "-UYEsX4y9E0f"
      },
      "execution_count": null,
      "outputs": []
    },
    {
      "cell_type": "code",
      "source": [
        "df.Date=pd.to_datetime(df.date)"
      ],
      "metadata": {
        "id": "nnKIxdGn9E3H"
      },
      "execution_count": null,
      "outputs": []
    },
    {
      "cell_type": "code",
      "source": [
        "df.info"
      ],
      "metadata": {
        "id": "jem8Qw3R9E5q"
      },
      "execution_count": null,
      "outputs": []
    },
    {
      "cell_type": "code",
      "source": [
        "df2 = pd.read_csv(r'C:\\Users\\teejb\\Documents\\disneyincome.csv', index_col='date', parse_dates=True)"
      ],
      "metadata": {
        "id": "O0VU0aCq9E8s"
      },
      "execution_count": null,
      "outputs": []
    },
    {
      "cell_type": "code",
      "source": [
        "df2.info()"
      ],
      "metadata": {
        "id": "dTQNhK3t9FCI"
      },
      "execution_count": null,
      "outputs": []
    },
    {
      "cell_type": "code",
      "source": [
        "import pandas as pd\n",
        "import numpy as np\n",
        "import matplotlib.pylab as plt\n",
        "%matplotlib inline\n",
        "from statsmodels.tsa.api import ExponentialSmoothing, SimpleExpSmoothing"
      ],
      "metadata": {
        "id": "RfXycwhi9XMH"
      },
      "execution_count": null,
      "outputs": []
    },
    {
      "cell_type": "code",
      "source": [
        "df2.describe()"
      ],
      "metadata": {
        "id": "WMF95QRk9XPY"
      },
      "execution_count": null,
      "outputs": []
    },
    {
      "cell_type": "code",
      "source": [
        "df2.columns"
      ],
      "metadata": {
        "id": "cNoe7YGE9XS6"
      },
      "execution_count": null,
      "outputs": []
    },
    {
      "cell_type": "code",
      "source": [
        "%matplotlib inline\n",
        "df2.plot();"
      ],
      "metadata": {
        "id": "bPZ7ccXA9XWj"
      },
      "execution_count": null,
      "outputs": []
    },
    {
      "cell_type": "code",
      "source": [
        "alpha = 0.1\n",
        "model = SimpleExpSmoothing(df2['Income']).fit(alpha)\n",
        "test_predictions = model.forecast(5).rename('SES Forecast')"
      ],
      "metadata": {
        "id": "l53iTZ4J9XlI"
      },
      "execution_count": null,
      "outputs": []
    },
    {
      "cell_type": "code",
      "source": [
        "test_predictions"
      ],
      "metadata": {
        "id": "umon3COA9Xn7"
      },
      "execution_count": null,
      "outputs": []
    },
    {
      "cell_type": "code",
      "source": [
        "model.params"
      ],
      "metadata": {
        "id": "i5v0DERt9jTN"
      },
      "execution_count": null,
      "outputs": []
    },
    {
      "cell_type": "code",
      "source": [
        "df2.plot();"
      ],
      "metadata": {
        "id": "8UDYUeFq9ldo"
      },
      "execution_count": null,
      "outputs": []
    },
    {
      "cell_type": "code",
      "source": [
        "df2['Income'].plot(legend=True,label='Actual Data', figsize=(11,8))\n",
        "test_predictions.plot(legend=True,label='Predictions');\n",
        "plt.legend()"
      ],
      "metadata": {
        "id": "cKPluo2f9qHy"
      },
      "execution_count": null,
      "outputs": []
    },
    {
      "cell_type": "markdown",
      "source": [
        "To forecast Disney's projected net income for 2022 first I went to yahoo finance and pulled the net income for the last 13 years including 2021. At this point we turned the dates into a time series which allowed us to run a simple exponential smooth model. In choosing the alpha to use, it was important to factor in the large drop in net income seen in 2020 due to the Covid-19 pandemic. This could almost be seen as an outlier, but the continuing impact of the pandemic is reason enough to leave it in the data set. Therefore, the alpha selection used was 0.1 which would weight the model more for the entire duration provided, rather than more heavily skew to the most recent pandemic impacted data. The end result was a projected net income earning of $6 billion in 2022."
      ],
      "metadata": {
        "id": "hArToiHK9q1T"
      }
    },
    {
      "cell_type": "code",
      "source": [],
      "metadata": {
        "id": "_U7p5wyI9vJ8"
      },
      "execution_count": null,
      "outputs": []
    }
  ]
}